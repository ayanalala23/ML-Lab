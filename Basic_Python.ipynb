{
  "nbformat": 4,
  "nbformat_minor": 0,
  "metadata": {
    "colab": {
      "provenance": [],
      "authorship_tag": "ABX9TyOtCSxMpfyCZbeAxdT22WMa",
      "include_colab_link": true
    },
    "kernelspec": {
      "name": "python3",
      "display_name": "Python 3"
    },
    "language_info": {
      "name": "python"
    }
  },
  "cells": [
    {
      "cell_type": "markdown",
      "metadata": {
        "id": "view-in-github",
        "colab_type": "text"
      },
      "source": [
        "<a href=\"https://colab.research.google.com/github/ayanalala23/ML-Lab/blob/main/Basic_Python.ipynb\" target=\"_parent\"><img src=\"https://colab.research.google.com/assets/colab-badge.svg\" alt=\"Open In Colab\"/></a>"
      ]
    },
    {
      "cell_type": "code",
      "execution_count": 1,
      "metadata": {
        "colab": {
          "base_uri": "https://localhost:8080/"
        },
        "id": "HvhwD1ak2Bsx",
        "outputId": "f9f97c37-d7d6-4969-9d2e-4b0cbc40dc1b"
      },
      "outputs": [
        {
          "output_type": "stream",
          "name": "stdout",
          "text": [
            "Hello, Python!\n"
          ]
        }
      ],
      "source": [
        "# --------------------------\n",
        "# BASIC SYNTAX AND DATA TYPES\n",
        "# --------------------------\n",
        "print(\"Hello, Python!\")\n",
        "\n",
        "# Variables\n",
        "x = 10\n",
        "y = 3.5\n",
        "name = \"Alice\"\n",
        "is_active = True\n"
      ]
    },
    {
      "cell_type": "markdown",
      "source": [
        "LIST"
      ],
      "metadata": {
        "id": "GQqFxYb22TmH"
      }
    },
    {
      "cell_type": "code",
      "source": [
        "fruits = [\"apple\", \"banana\", \"cherry\"]\n",
        "fruits.append(\"mango\")\n",
        "print(\"List:\", fruits)\n",
        "\n",
        "# List Comprehension\n",
        "squares = [i**2 for i in range(5)]\n",
        "print(\"Squares:\", squares)"
      ],
      "metadata": {
        "colab": {
          "base_uri": "https://localhost:8080/"
        },
        "id": "k-4E2ged2W8R",
        "outputId": "946f2c3c-5ef0-49ad-c9d1-b32860b2978b"
      },
      "execution_count": 2,
      "outputs": [
        {
          "output_type": "stream",
          "name": "stdout",
          "text": [
            "List: ['apple', 'banana', 'cherry', 'mango']\n",
            "Squares: [0, 1, 4, 9, 16]\n"
          ]
        }
      ]
    },
    {
      "cell_type": "markdown",
      "source": [
        "TUPLE"
      ],
      "metadata": {
        "id": "mayopdqR2boy"
      }
    },
    {
      "cell_type": "code",
      "source": [
        "point = (10, 20)\n",
        "print(\"Tuple:\", point)"
      ],
      "metadata": {
        "colab": {
          "base_uri": "https://localhost:8080/"
        },
        "id": "SFf04Fa82e6c",
        "outputId": "739718fc-cb08-4977-b909-f0cf922426f6"
      },
      "execution_count": 3,
      "outputs": [
        {
          "output_type": "stream",
          "name": "stdout",
          "text": [
            "Tuple: (10, 20)\n"
          ]
        }
      ]
    },
    {
      "cell_type": "markdown",
      "source": [
        "DICTIONARY"
      ],
      "metadata": {
        "id": "CfLNGO5w2iR0"
      }
    },
    {
      "cell_type": "code",
      "source": [
        "student = {\n",
        "    \"name\": \"Bob\",\n",
        "    \"age\": 22,\n",
        "    \"marks\": [90, 88, 95]\n",
        "}\n",
        "print(\"Student Name:\", student[\"name\"])\n",
        "\n",
        "# Add new key\n",
        "student[\"grade\"] = \"A\"\n",
        "\n",
        "# Loop through dictionary\n",
        "for key, value in student.items():\n",
        "    print(key, \"->\", value)\n"
      ],
      "metadata": {
        "colab": {
          "base_uri": "https://localhost:8080/"
        },
        "id": "L76XnOr82ke9",
        "outputId": "c4043c9b-c1c4-422a-fbd1-b34d01aeca6b"
      },
      "execution_count": 5,
      "outputs": [
        {
          "output_type": "stream",
          "name": "stdout",
          "text": [
            "Student Name: Bob\n",
            "name -> Bob\n",
            "age -> 22\n",
            "marks -> [90, 88, 95]\n",
            "grade -> A\n"
          ]
        }
      ]
    },
    {
      "cell_type": "markdown",
      "source": [
        "LAMBDA FUNCTION"
      ],
      "metadata": {
        "id": "t2P0xcJc2v0j"
      }
    },
    {
      "cell_type": "code",
      "source": [
        "add = lambda a, b: a + b\n",
        "print(\"Lambda Add:\", add(5, 3))\n",
        "\n",
        "# Sort list of tuples by second element\n",
        "pairs = [(1, 2), (3, 1), (5, 0)]\n",
        "sorted_pairs = sorted(pairs, key=lambda x: x[1])\n",
        "print(\"Sorted Pairs:\", sorted_pairs)"
      ],
      "metadata": {
        "colab": {
          "base_uri": "https://localhost:8080/"
        },
        "id": "VTjal2_q2yBt",
        "outputId": "353157ab-fdd3-4305-f10f-286b0dfc7428"
      },
      "execution_count": 6,
      "outputs": [
        {
          "output_type": "stream",
          "name": "stdout",
          "text": [
            "Lambda Add: 8\n",
            "Sorted Pairs: [(5, 0), (3, 1), (1, 2)]\n"
          ]
        }
      ]
    },
    {
      "cell_type": "markdown",
      "source": [
        "CLASS AND OBJECT"
      ],
      "metadata": {
        "id": "CYJEdksD20-Q"
      }
    },
    {
      "cell_type": "code",
      "source": [
        "class Person:\n",
        "    def __init__(self, name, age):\n",
        "        self.name = name\n",
        "        self.age = age\n",
        "\n",
        "    def greet(self):\n",
        "        print(f\"Hi, I'm {self.name} and I'm {self.age} years old.\")\n",
        "\n",
        "# Create object\n",
        "p = Person(\"Alice\", 25)\n",
        "p.greet()"
      ],
      "metadata": {
        "colab": {
          "base_uri": "https://localhost:8080/"
        },
        "id": "Ce1O0Olq22ya",
        "outputId": "67c221f3-1b66-4a83-993b-d1a65de6193b"
      },
      "execution_count": 7,
      "outputs": [
        {
          "output_type": "stream",
          "name": "stdout",
          "text": [
            "Hi, I'm Alice and I'm 25 years old.\n"
          ]
        }
      ]
    },
    {
      "cell_type": "markdown",
      "source": [
        "NUMPY"
      ],
      "metadata": {
        "id": "sJpYk_ma26f7"
      }
    },
    {
      "cell_type": "code",
      "source": [
        "import numpy as np\n",
        "\n",
        "array1 = np.array([1, 2, 3])\n",
        "array2 = np.array([[1, 2], [3, 4]])\n",
        "\n",
        "print(\"Numpy Array1:\", array1)\n",
        "print(\"Numpy Array2:\\n\", array2)\n",
        "print(\"Array1 Mean:\", np.mean(array1))"
      ],
      "metadata": {
        "colab": {
          "base_uri": "https://localhost:8080/"
        },
        "id": "ua7xSoQa296s",
        "outputId": "1165a11f-0b4c-4e87-8389-7636f802e65a"
      },
      "execution_count": 8,
      "outputs": [
        {
          "output_type": "stream",
          "name": "stdout",
          "text": [
            "Numpy Array1: [1 2 3]\n",
            "Numpy Array2:\n",
            " [[1 2]\n",
            " [3 4]]\n",
            "Array1 Mean: 2.0\n"
          ]
        }
      ]
    },
    {
      "cell_type": "markdown",
      "source": [
        "PANDAS"
      ],
      "metadata": {
        "id": "tHb2qWkW3BVd"
      }
    },
    {
      "cell_type": "code",
      "source": [
        "import pandas as pd\n",
        "\n",
        "data = {\n",
        "    \"Name\": [\"Tom\", \"Jerry\", \"Spike\"],\n",
        "    \"Age\": [25, 22, 30],\n",
        "    \"Score\": [88, 90, 85]\n",
        "}\n",
        "df = pd.DataFrame(data)\n",
        "print(\"Pandas DataFrame:\\n\", df)\n",
        "\n",
        "# Basic statistics\n",
        "print(\"Average Score:\", df[\"Score\"].mean())"
      ],
      "metadata": {
        "colab": {
          "base_uri": "https://localhost:8080/"
        },
        "id": "6ZHmN0sH3DzC",
        "outputId": "1c1fbe00-d245-47f2-ee0d-3d14c478b06d"
      },
      "execution_count": 9,
      "outputs": [
        {
          "output_type": "stream",
          "name": "stdout",
          "text": [
            "Pandas DataFrame:\n",
            "     Name  Age  Score\n",
            "0    Tom   25     88\n",
            "1  Jerry   22     90\n",
            "2  Spike   30     85\n",
            "Average Score: 87.66666666666667\n"
          ]
        }
      ]
    },
    {
      "cell_type": "markdown",
      "source": [
        "MATPLOTLIB"
      ],
      "metadata": {
        "id": "dwQlS4De3HD5"
      }
    },
    {
      "cell_type": "code",
      "source": [
        "import matplotlib.pyplot as plt\n",
        "\n",
        "# Simple Line Plot\n",
        "x = [1, 2, 3, 4, 5]\n",
        "y = [i**2 for i in x]\n",
        "\n",
        "plt.plot(x, y, label=\"y = x^2\", color=\"blue\", marker=\"o\")\n",
        "plt.xlabel(\"X Axis\")\n",
        "plt.ylabel(\"Y Axis\")\n",
        "plt.title(\"Line Plot Example\")\n",
        "plt.legend()\n",
        "plt.grid(True)\n",
        "plt.show()"
      ],
      "metadata": {
        "colab": {
          "base_uri": "https://localhost:8080/",
          "height": 472
        },
        "id": "XcmVZrMP3JQy",
        "outputId": "6d8d1383-4acd-4b52-bced-a3a67132e3b1"
      },
      "execution_count": 10,
      "outputs": [
        {
          "output_type": "display_data",
          "data": {
            "text/plain": [
              "<Figure size 640x480 with 1 Axes>"
            ],
            "image/png": "[encoded data removed]"
          },
          "metadata": {}
        }
      ]
    }
  ]
}